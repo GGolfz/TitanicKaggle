{
  "cells": [
    {
      "cell_type": "code",
      "source": [
        "import json\n",
        "import logging\n",
        "import os\n",
        "import pickle\n",
        "import numpy as np\n",
        "import pandas as pd\n",
        "import joblib\n",
        "\n",
        "import azureml.automl.core\n",
        "\n",
        "filename = './models/StdLightGBM.pkl'\n",
        "model = joblib.load(filename)\n",
        "features = [\"Pclass\",\"Age\",\"SibSp\",\"Parch\",\"Fare\",\"Sex\",\"Ticket\",\"Embarked\"]\n",
        "test_data = pd.read_csv('./test.csv')\n",
        "# test_X = test_data[features].values\n",
        "predict_val = model.predict(test_data)\n",
        "result = []\n",
        "for i,k in test_data.iterrows():\n",
        "    result.append([k[\"PassengerId\"],predict_val[i]])\n",
        "df = pd.DataFrame(result,columns=[\"PassengerId\",\"Survived\"])\n",
        "print(df)\n",
        "df.to_csv('./output/StdLightGBM.csv',index=False)"
      ],
      "outputs": [
        {
          "output_type": "stream",
          "name": "stdout",
          "text": [
            "     PassengerId  Survived\n",
            "0            892         0\n",
            "1            893         0\n",
            "2            894         0\n",
            "3            895         0\n",
            "4            896         0\n",
            "..           ...       ...\n",
            "413         1305         0\n",
            "414         1306         1\n",
            "415         1307         0\n",
            "416         1308         0\n",
            "417         1309         0\n",
            "\n",
            "[418 rows x 2 columns]\n"
          ]
        }
      ],
      "execution_count": 10,
      "metadata": {
        "gather": {
          "logged": 1610115688360
        }
      }
    }
  ],
  "metadata": {
    "kernelspec": {
      "name": "python3-azureml",
      "language": "python",
      "display_name": "Python 3.6 - AzureML"
    },
    "language_info": {
      "name": "python",
      "version": "3.6.9",
      "mimetype": "text/x-python",
      "codemirror_mode": {
        "name": "ipython",
        "version": 3
      },
      "pygments_lexer": "ipython3",
      "nbconvert_exporter": "python",
      "file_extension": ".py"
    },
    "kernel_info": {
      "name": "python3-azureml"
    },
    "nteract": {
      "version": "nteract-front-end@1.0.0"
    }
  },
  "nbformat": 4,
  "nbformat_minor": 2
}